{
 "cells": [
  {
   "cell_type": "markdown",
   "metadata": {},
   "source": [
    "# 프로젝트: 자율주행 보조 시스템 만들기\n",
    "\n",
    "## 1. 자율주행 시스템 만들기\n",
    "위에서 만든 모델을 통해 아래의 조건을 만족하는 함수를 만들어 주세요.\n",
    "\n",
    "입력으로 이미지 경로를 받습니다.\n",
    "정지조건에 맞는 경우 \"Stop\" 아닌 경우 \"Go\"를 반환합니다.\n",
    "조건은 다음과 같습니다.\n",
    "사람이 한 명 이상 있는 경우\n",
    "차량의 크기(width or height)가 300px이상인 경우\n",
    "\n",
    "## 평가 루브릭\n",
    "\n",
    "아래의 기준을 바탕으로 프로젝트를 평가합니다.\n",
    "\n",
    "평가문항\t상세기준\n",
    "1. KITTI 데이터셋에 대한 분석이 체계적으로 진행되었다. : KITTI 데이터셋 구조와 내용을 파악하고 이를 토대로 필요한 데이터셋 가공을 정상 진행하였다.\n",
    "2. RetinaNet 학습이 정상적으로 진행되어 object detection 결과의 시각화까지 진행되었다. : 바운딩박스가 정확히 표시된 시각화된 이미지를 생성하였다.\n",
    "3. 자율주행 Object Detection 테스트시스템 적용결과 만족스러운 정확도 성능을 달성하였다. : 테스트 수행결과 90% 이상의 정확도를 보였다."
   ]
  },
  {
   "cell_type": "code",
   "execution_count": null,
   "metadata": {},
   "outputs": [],
   "source": []
  },
  {
   "cell_type": "code",
   "execution_count": null,
   "metadata": {},
   "outputs": [],
   "source": []
  },
  {
   "cell_type": "code",
   "execution_count": null,
   "metadata": {},
   "outputs": [],
   "source": []
  },
  {
   "cell_type": "code",
   "execution_count": null,
   "metadata": {},
   "outputs": [],
   "source": []
  }
 ],
 "metadata": {
  "kernelspec": {
   "display_name": "aiffel",
   "language": "python",
   "name": "aiffel"
  },
  "language_info": {
   "codemirror_mode": {
    "name": "ipython",
    "version": 3
   },
   "file_extension": ".py",
   "mimetype": "text/x-python",
   "name": "python",
   "nbconvert_exporter": "python",
   "pygments_lexer": "ipython3",
   "version": "3.7.6"
  }
 },
 "nbformat": 4,
 "nbformat_minor": 4
}
